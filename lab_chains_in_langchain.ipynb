{
  "cells": [
    {
      "cell_type": "markdown",
      "id": "52824b89-532a-4e54-87e9-1410813cd39e",
      "metadata": {
        "id": "52824b89-532a-4e54-87e9-1410813cd39e"
      },
      "source": [
        "# Lab | Chains in LangChain\n",
        "\n",
        "## Outline\n",
        "\n",
        "* LLMChain\n",
        "* Sequential Chains\n",
        "  * SimpleSequentialChain\n",
        "  * SequentialChain\n",
        "* Router Chain"
      ]
    },
    {
      "cell_type": "code",
      "execution_count": 1,
      "id": "541eb2f1",
      "metadata": {
        "id": "541eb2f1"
      },
      "outputs": [],
      "source": [
        "import warnings\n",
        "warnings.filterwarnings('ignore')"
      ]
    },
    {
      "cell_type": "code",
      "execution_count": 3,
      "id": "ltexQ_jfQiJb",
      "metadata": {
        "colab": {
          "base_uri": "https://localhost:8080/"
        },
        "id": "ltexQ_jfQiJb",
        "outputId": "0cd15bc0-21ae-4777-be62-53b78e9c89ea"
      },
      "outputs": [
        {
          "name": "stdout",
          "output_type": "stream",
          "text": [
            "Collecting dotenv\n",
            "  Downloading dotenv-0.9.9-py2.py3-none-any.whl.metadata (279 bytes)\n",
            "Collecting python-dotenv (from dotenv)\n",
            "  Downloading python_dotenv-1.1.0-py3-none-any.whl.metadata (24 kB)\n",
            "Downloading dotenv-0.9.9-py2.py3-none-any.whl (1.9 kB)\n",
            "Downloading python_dotenv-1.1.0-py3-none-any.whl (20 kB)\n",
            "Installing collected packages: python-dotenv, dotenv\n",
            "Successfully installed dotenv-0.9.9 python-dotenv-1.1.0\n"
          ]
        }
      ],
      "source": [
        "!pip install dotenv"
      ]
    },
    {
      "cell_type": "code",
      "execution_count": null,
      "id": "b7ed03ed-1322-49e3-b2a2-33e94fb592ef",
      "metadata": {
        "id": "b7ed03ed-1322-49e3-b2a2-33e94fb592ef",
        "tags": []
      },
      "outputs": [],
      "source": [
        "import os\n",
        "\n",
        "from dotenv import load_dotenv, find_dotenv\n",
        "_ = load_dotenv(find_dotenv())\n",
        "\n",
        "OPENAI_API_KEY  = os.getenv('OPENAI_API_KEY')\n",
        "HUGGINGFACEHUB_API_TOKEN = os.getenv('HUGGINGFACEHUB_API_TOKEN')\n"
      ]
    },
    {
      "cell_type": "code",
      "execution_count": 5,
      "id": "b84e441b",
      "metadata": {
        "id": "b84e441b",
        "tags": []
      },
      "outputs": [],
      "source": [
        "#!pip install pandas\n"
      ]
    },
    {
      "cell_type": "code",
      "execution_count": 9,
      "id": "974acf8e-8f88-42de-88f8-40a82cb58e8b",
      "metadata": {
        "id": "974acf8e-8f88-42de-88f8-40a82cb58e8b",
        "tags": []
      },
      "outputs": [],
      "source": [
        "import pandas as pd\n",
        "df = pd.read_csv('/content/Data.csv')"
      ]
    },
    {
      "cell_type": "code",
      "execution_count": 10,
      "id": "b7a09c35",
      "metadata": {
        "colab": {
          "base_uri": "https://localhost:8080/",
          "height": 206
        },
        "id": "b7a09c35",
        "outputId": "fa1c0bf9-e84a-40a8-f463-f7139e494416",
        "tags": []
      },
      "outputs": [
        {
          "data": {
            "application/vnd.google.colaboratory.intrinsic+json": {
              "summary": "{\n  \"name\": \"df\",\n  \"rows\": 7,\n  \"fields\": [\n    {\n      \"column\": \"Product\",\n      \"properties\": {\n        \"dtype\": \"string\",\n        \"num_unique_values\": 7,\n        \"samples\": [\n          \"Queen Size Sheet Set\",\n          \"Waterproof Phone Pouch\",\n          \"L'Or Espresso Caf\\u00e9\\u00a0\\n\"\n        ],\n        \"semantic_type\": \"\",\n        \"description\": \"\"\n      }\n    },\n    {\n      \"column\": \"Review\",\n      \"properties\": {\n        \"dtype\": \"string\",\n        \"num_unique_values\": 7,\n        \"samples\": [\n          \"I ordered a king size set. My only criticism would be that I wish seller would offer the king size set with 4 pillowcases. I separately ordered a two pack of pillowcases so I could have a total of four. When I saw the two packages, it looked like the color did not exactly match. Customer service was excellent about sending me two more pillowcases so I would have four that matched. Excellent! For the cost of these sheets, I am satisfied with the characteristics and coolness of the sheets.\",\n          \"I loved the waterproof sac, although the opening was made of a hard plastic. I don\\u2019t know if that would break easily. But I couldn\\u2019t turn my phone on, once it was in the pouch.\",\n          \"Je trouve le go\\u00fbt m\\u00e9diocre. La mousse ne tient pas, c'est bizarre. J'ach\\u00e8te les m\\u00eames dans le commerce et le go\\u00fbt est bien meilleur...\\nVieux lot ou contrefa\\u00e7on !?\"\n        ],\n        \"semantic_type\": \"\",\n        \"description\": \"\"\n      }\n    }\n  ]\n}",
              "type": "dataframe",
              "variable_name": "df"
            },
            "text/html": [
              "\n",
              "  <div id=\"df-037ebc81-6fc0-419b-b9a2-fb6181befaf1\" class=\"colab-df-container\">\n",
              "    <div>\n",
              "<style scoped>\n",
              "    .dataframe tbody tr th:only-of-type {\n",
              "        vertical-align: middle;\n",
              "    }\n",
              "\n",
              "    .dataframe tbody tr th {\n",
              "        vertical-align: top;\n",
              "    }\n",
              "\n",
              "    .dataframe thead th {\n",
              "        text-align: right;\n",
              "    }\n",
              "</style>\n",
              "<table border=\"1\" class=\"dataframe\">\n",
              "  <thead>\n",
              "    <tr style=\"text-align: right;\">\n",
              "      <th></th>\n",
              "      <th>Product</th>\n",
              "      <th>Review</th>\n",
              "    </tr>\n",
              "  </thead>\n",
              "  <tbody>\n",
              "    <tr>\n",
              "      <th>0</th>\n",
              "      <td>Queen Size Sheet Set</td>\n",
              "      <td>I ordered a king size set. My only criticism w...</td>\n",
              "    </tr>\n",
              "    <tr>\n",
              "      <th>1</th>\n",
              "      <td>Waterproof Phone Pouch</td>\n",
              "      <td>I loved the waterproof sac, although the openi...</td>\n",
              "    </tr>\n",
              "    <tr>\n",
              "      <th>2</th>\n",
              "      <td>Luxury Air Mattress</td>\n",
              "      <td>This mattress had a small hole in the top of i...</td>\n",
              "    </tr>\n",
              "    <tr>\n",
              "      <th>3</th>\n",
              "      <td>Pillows Insert</td>\n",
              "      <td>This is the best throw pillow fillers on Amazo...</td>\n",
              "    </tr>\n",
              "    <tr>\n",
              "      <th>4</th>\n",
              "      <td>Milk Frother Handheld\\n</td>\n",
              "      <td>I loved this product. But they only seem to l...</td>\n",
              "    </tr>\n",
              "  </tbody>\n",
              "</table>\n",
              "</div>\n",
              "    <div class=\"colab-df-buttons\">\n",
              "\n",
              "  <div class=\"colab-df-container\">\n",
              "    <button class=\"colab-df-convert\" onclick=\"convertToInteractive('df-037ebc81-6fc0-419b-b9a2-fb6181befaf1')\"\n",
              "            title=\"Convert this dataframe to an interactive table.\"\n",
              "            style=\"display:none;\">\n",
              "\n",
              "  <svg xmlns=\"http://www.w3.org/2000/svg\" height=\"24px\" viewBox=\"0 -960 960 960\">\n",
              "    <path d=\"M120-120v-720h720v720H120Zm60-500h600v-160H180v160Zm220 220h160v-160H400v160Zm0 220h160v-160H400v160ZM180-400h160v-160H180v160Zm440 0h160v-160H620v160ZM180-180h160v-160H180v160Zm440 0h160v-160H620v160Z\"/>\n",
              "  </svg>\n",
              "    </button>\n",
              "\n",
              "  <style>\n",
              "    .colab-df-container {\n",
              "      display:flex;\n",
              "      gap: 12px;\n",
              "    }\n",
              "\n",
              "    .colab-df-convert {\n",
              "      background-color: #E8F0FE;\n",
              "      border: none;\n",
              "      border-radius: 50%;\n",
              "      cursor: pointer;\n",
              "      display: none;\n",
              "      fill: #1967D2;\n",
              "      height: 32px;\n",
              "      padding: 0 0 0 0;\n",
              "      width: 32px;\n",
              "    }\n",
              "\n",
              "    .colab-df-convert:hover {\n",
              "      background-color: #E2EBFA;\n",
              "      box-shadow: 0px 1px 2px rgba(60, 64, 67, 0.3), 0px 1px 3px 1px rgba(60, 64, 67, 0.15);\n",
              "      fill: #174EA6;\n",
              "    }\n",
              "\n",
              "    .colab-df-buttons div {\n",
              "      margin-bottom: 4px;\n",
              "    }\n",
              "\n",
              "    [theme=dark] .colab-df-convert {\n",
              "      background-color: #3B4455;\n",
              "      fill: #D2E3FC;\n",
              "    }\n",
              "\n",
              "    [theme=dark] .colab-df-convert:hover {\n",
              "      background-color: #434B5C;\n",
              "      box-shadow: 0px 1px 3px 1px rgba(0, 0, 0, 0.15);\n",
              "      filter: drop-shadow(0px 1px 2px rgba(0, 0, 0, 0.3));\n",
              "      fill: #FFFFFF;\n",
              "    }\n",
              "  </style>\n",
              "\n",
              "    <script>\n",
              "      const buttonEl =\n",
              "        document.querySelector('#df-037ebc81-6fc0-419b-b9a2-fb6181befaf1 button.colab-df-convert');\n",
              "      buttonEl.style.display =\n",
              "        google.colab.kernel.accessAllowed ? 'block' : 'none';\n",
              "\n",
              "      async function convertToInteractive(key) {\n",
              "        const element = document.querySelector('#df-037ebc81-6fc0-419b-b9a2-fb6181befaf1');\n",
              "        const dataTable =\n",
              "          await google.colab.kernel.invokeFunction('convertToInteractive',\n",
              "                                                    [key], {});\n",
              "        if (!dataTable) return;\n",
              "\n",
              "        const docLinkHtml = 'Like what you see? Visit the ' +\n",
              "          '<a target=\"_blank\" href=https://colab.research.google.com/notebooks/data_table.ipynb>data table notebook</a>'\n",
              "          + ' to learn more about interactive tables.';\n",
              "        element.innerHTML = '';\n",
              "        dataTable['output_type'] = 'display_data';\n",
              "        await google.colab.output.renderOutput(dataTable, element);\n",
              "        const docLink = document.createElement('div');\n",
              "        docLink.innerHTML = docLinkHtml;\n",
              "        element.appendChild(docLink);\n",
              "      }\n",
              "    </script>\n",
              "  </div>\n",
              "\n",
              "\n",
              "<div id=\"df-7fad5dee-9ce3-4a8c-9269-2be95da41abe\">\n",
              "  <button class=\"colab-df-quickchart\" onclick=\"quickchart('df-7fad5dee-9ce3-4a8c-9269-2be95da41abe')\"\n",
              "            title=\"Suggest charts\"\n",
              "            style=\"display:none;\">\n",
              "\n",
              "<svg xmlns=\"http://www.w3.org/2000/svg\" height=\"24px\"viewBox=\"0 0 24 24\"\n",
              "     width=\"24px\">\n",
              "    <g>\n",
              "        <path d=\"M19 3H5c-1.1 0-2 .9-2 2v14c0 1.1.9 2 2 2h14c1.1 0 2-.9 2-2V5c0-1.1-.9-2-2-2zM9 17H7v-7h2v7zm4 0h-2V7h2v10zm4 0h-2v-4h2v4z\"/>\n",
              "    </g>\n",
              "</svg>\n",
              "  </button>\n",
              "\n",
              "<style>\n",
              "  .colab-df-quickchart {\n",
              "      --bg-color: #E8F0FE;\n",
              "      --fill-color: #1967D2;\n",
              "      --hover-bg-color: #E2EBFA;\n",
              "      --hover-fill-color: #174EA6;\n",
              "      --disabled-fill-color: #AAA;\n",
              "      --disabled-bg-color: #DDD;\n",
              "  }\n",
              "\n",
              "  [theme=dark] .colab-df-quickchart {\n",
              "      --bg-color: #3B4455;\n",
              "      --fill-color: #D2E3FC;\n",
              "      --hover-bg-color: #434B5C;\n",
              "      --hover-fill-color: #FFFFFF;\n",
              "      --disabled-bg-color: #3B4455;\n",
              "      --disabled-fill-color: #666;\n",
              "  }\n",
              "\n",
              "  .colab-df-quickchart {\n",
              "    background-color: var(--bg-color);\n",
              "    border: none;\n",
              "    border-radius: 50%;\n",
              "    cursor: pointer;\n",
              "    display: none;\n",
              "    fill: var(--fill-color);\n",
              "    height: 32px;\n",
              "    padding: 0;\n",
              "    width: 32px;\n",
              "  }\n",
              "\n",
              "  .colab-df-quickchart:hover {\n",
              "    background-color: var(--hover-bg-color);\n",
              "    box-shadow: 0 1px 2px rgba(60, 64, 67, 0.3), 0 1px 3px 1px rgba(60, 64, 67, 0.15);\n",
              "    fill: var(--button-hover-fill-color);\n",
              "  }\n",
              "\n",
              "  .colab-df-quickchart-complete:disabled,\n",
              "  .colab-df-quickchart-complete:disabled:hover {\n",
              "    background-color: var(--disabled-bg-color);\n",
              "    fill: var(--disabled-fill-color);\n",
              "    box-shadow: none;\n",
              "  }\n",
              "\n",
              "  .colab-df-spinner {\n",
              "    border: 2px solid var(--fill-color);\n",
              "    border-color: transparent;\n",
              "    border-bottom-color: var(--fill-color);\n",
              "    animation:\n",
              "      spin 1s steps(1) infinite;\n",
              "  }\n",
              "\n",
              "  @keyframes spin {\n",
              "    0% {\n",
              "      border-color: transparent;\n",
              "      border-bottom-color: var(--fill-color);\n",
              "      border-left-color: var(--fill-color);\n",
              "    }\n",
              "    20% {\n",
              "      border-color: transparent;\n",
              "      border-left-color: var(--fill-color);\n",
              "      border-top-color: var(--fill-color);\n",
              "    }\n",
              "    30% {\n",
              "      border-color: transparent;\n",
              "      border-left-color: var(--fill-color);\n",
              "      border-top-color: var(--fill-color);\n",
              "      border-right-color: var(--fill-color);\n",
              "    }\n",
              "    40% {\n",
              "      border-color: transparent;\n",
              "      border-right-color: var(--fill-color);\n",
              "      border-top-color: var(--fill-color);\n",
              "    }\n",
              "    60% {\n",
              "      border-color: transparent;\n",
              "      border-right-color: var(--fill-color);\n",
              "    }\n",
              "    80% {\n",
              "      border-color: transparent;\n",
              "      border-right-color: var(--fill-color);\n",
              "      border-bottom-color: var(--fill-color);\n",
              "    }\n",
              "    90% {\n",
              "      border-color: transparent;\n",
              "      border-bottom-color: var(--fill-color);\n",
              "    }\n",
              "  }\n",
              "</style>\n",
              "\n",
              "  <script>\n",
              "    async function quickchart(key) {\n",
              "      const quickchartButtonEl =\n",
              "        document.querySelector('#' + key + ' button');\n",
              "      quickchartButtonEl.disabled = true;  // To prevent multiple clicks.\n",
              "      quickchartButtonEl.classList.add('colab-df-spinner');\n",
              "      try {\n",
              "        const charts = await google.colab.kernel.invokeFunction(\n",
              "            'suggestCharts', [key], {});\n",
              "      } catch (error) {\n",
              "        console.error('Error during call to suggestCharts:', error);\n",
              "      }\n",
              "      quickchartButtonEl.classList.remove('colab-df-spinner');\n",
              "      quickchartButtonEl.classList.add('colab-df-quickchart-complete');\n",
              "    }\n",
              "    (() => {\n",
              "      let quickchartButtonEl =\n",
              "        document.querySelector('#df-7fad5dee-9ce3-4a8c-9269-2be95da41abe button');\n",
              "      quickchartButtonEl.style.display =\n",
              "        google.colab.kernel.accessAllowed ? 'block' : 'none';\n",
              "    })();\n",
              "  </script>\n",
              "</div>\n",
              "\n",
              "    </div>\n",
              "  </div>\n"
            ],
            "text/plain": [
              "                   Product                                             Review\n",
              "0     Queen Size Sheet Set  I ordered a king size set. My only criticism w...\n",
              "1   Waterproof Phone Pouch  I loved the waterproof sac, although the openi...\n",
              "2      Luxury Air Mattress  This mattress had a small hole in the top of i...\n",
              "3           Pillows Insert  This is the best throw pillow fillers on Amazo...\n",
              "4  Milk Frother Handheld\\n   I loved this product. But they only seem to l..."
            ]
          },
          "execution_count": 10,
          "metadata": {},
          "output_type": "execute_result"
        }
      ],
      "source": [
        "df.head()"
      ]
    },
    {
      "cell_type": "markdown",
      "id": "b940ce7c",
      "metadata": {
        "id": "b940ce7c"
      },
      "source": [
        "## LLMChain"
      ]
    },
    {
      "cell_type": "code",
      "execution_count": 13,
      "id": "427e1119",
      "metadata": {
        "colab": {
          "base_uri": "https://localhost:8080/"
        },
        "id": "427e1119",
        "outputId": "23305ed4-ba0d-46ab-d951-3de253e26b7a"
      },
      "outputs": [
        {
          "name": "stdout",
          "output_type": "stream",
          "text": [
            "Requirement already satisfied: langchain_community in /usr/local/lib/python3.11/dist-packages (0.3.21)\n",
            "Requirement already satisfied: langchain-core<1.0.0,>=0.3.51 in /usr/local/lib/python3.11/dist-packages (from langchain_community) (0.3.51)\n",
            "Requirement already satisfied: langchain<1.0.0,>=0.3.23 in /usr/local/lib/python3.11/dist-packages (from langchain_community) (0.3.23)\n",
            "Requirement already satisfied: SQLAlchemy<3,>=1.4 in /usr/local/lib/python3.11/dist-packages (from langchain_community) (2.0.40)\n",
            "Requirement already satisfied: requests<3,>=2 in /usr/local/lib/python3.11/dist-packages (from langchain_community) (2.32.3)\n",
            "Requirement already satisfied: PyYAML>=5.3 in /usr/local/lib/python3.11/dist-packages (from langchain_community) (6.0.2)\n",
            "Requirement already satisfied: aiohttp<4.0.0,>=3.8.3 in /usr/local/lib/python3.11/dist-packages (from langchain_community) (3.11.15)\n",
            "Requirement already satisfied: tenacity!=8.4.0,<10,>=8.1.0 in /usr/local/lib/python3.11/dist-packages (from langchain_community) (9.1.2)\n",
            "Requirement already satisfied: dataclasses-json<0.7,>=0.5.7 in /usr/local/lib/python3.11/dist-packages (from langchain_community) (0.6.7)\n",
            "Requirement already satisfied: pydantic-settings<3.0.0,>=2.4.0 in /usr/local/lib/python3.11/dist-packages (from langchain_community) (2.8.1)\n",
            "Requirement already satisfied: langsmith<0.4,>=0.1.125 in /usr/local/lib/python3.11/dist-packages (from langchain_community) (0.3.28)\n",
            "Requirement already satisfied: httpx-sse<1.0.0,>=0.4.0 in /usr/local/lib/python3.11/dist-packages (from langchain_community) (0.4.0)\n",
            "Requirement already satisfied: numpy<3,>=1.26.2 in /usr/local/lib/python3.11/dist-packages (from langchain_community) (2.0.2)\n",
            "Requirement already satisfied: aiohappyeyeballs>=2.3.0 in /usr/local/lib/python3.11/dist-packages (from aiohttp<4.0.0,>=3.8.3->langchain_community) (2.6.1)\n",
            "Requirement already satisfied: aiosignal>=1.1.2 in /usr/local/lib/python3.11/dist-packages (from aiohttp<4.0.0,>=3.8.3->langchain_community) (1.3.2)\n",
            "Requirement already satisfied: attrs>=17.3.0 in /usr/local/lib/python3.11/dist-packages (from aiohttp<4.0.0,>=3.8.3->langchain_community) (25.3.0)\n",
            "Requirement already satisfied: frozenlist>=1.1.1 in /usr/local/lib/python3.11/dist-packages (from aiohttp<4.0.0,>=3.8.3->langchain_community) (1.5.0)\n",
            "Requirement already satisfied: multidict<7.0,>=4.5 in /usr/local/lib/python3.11/dist-packages (from aiohttp<4.0.0,>=3.8.3->langchain_community) (6.4.2)\n",
            "Requirement already satisfied: propcache>=0.2.0 in /usr/local/lib/python3.11/dist-packages (from aiohttp<4.0.0,>=3.8.3->langchain_community) (0.3.1)\n",
            "Requirement already satisfied: yarl<2.0,>=1.17.0 in /usr/local/lib/python3.11/dist-packages (from aiohttp<4.0.0,>=3.8.3->langchain_community) (1.19.0)\n",
            "Requirement already satisfied: marshmallow<4.0.0,>=3.18.0 in /usr/local/lib/python3.11/dist-packages (from dataclasses-json<0.7,>=0.5.7->langchain_community) (3.26.1)\n",
            "Requirement already satisfied: typing-inspect<1,>=0.4.0 in /usr/local/lib/python3.11/dist-packages (from dataclasses-json<0.7,>=0.5.7->langchain_community) (0.9.0)\n",
            "Requirement already satisfied: langchain-text-splitters<1.0.0,>=0.3.8 in /usr/local/lib/python3.11/dist-packages (from langchain<1.0.0,>=0.3.23->langchain_community) (0.3.8)\n",
            "Requirement already satisfied: pydantic<3.0.0,>=2.7.4 in /usr/local/lib/python3.11/dist-packages (from langchain<1.0.0,>=0.3.23->langchain_community) (2.11.3)\n",
            "Requirement already satisfied: jsonpatch<2.0,>=1.33 in /usr/local/lib/python3.11/dist-packages (from langchain-core<1.0.0,>=0.3.51->langchain_community) (1.33)\n",
            "Requirement already satisfied: packaging<25,>=23.2 in /usr/local/lib/python3.11/dist-packages (from langchain-core<1.0.0,>=0.3.51->langchain_community) (24.2)\n",
            "Requirement already satisfied: typing-extensions>=4.7 in /usr/local/lib/python3.11/dist-packages (from langchain-core<1.0.0,>=0.3.51->langchain_community) (4.13.1)\n",
            "Requirement already satisfied: httpx<1,>=0.23.0 in /usr/local/lib/python3.11/dist-packages (from langsmith<0.4,>=0.1.125->langchain_community) (0.28.1)\n",
            "Requirement already satisfied: orjson<4.0.0,>=3.9.14 in /usr/local/lib/python3.11/dist-packages (from langsmith<0.4,>=0.1.125->langchain_community) (3.10.16)\n",
            "Requirement already satisfied: requests-toolbelt<2.0.0,>=1.0.0 in /usr/local/lib/python3.11/dist-packages (from langsmith<0.4,>=0.1.125->langchain_community) (1.0.0)\n",
            "Requirement already satisfied: zstandard<0.24.0,>=0.23.0 in /usr/local/lib/python3.11/dist-packages (from langsmith<0.4,>=0.1.125->langchain_community) (0.23.0)\n",
            "Requirement already satisfied: python-dotenv>=0.21.0 in /usr/local/lib/python3.11/dist-packages (from pydantic-settings<3.0.0,>=2.4.0->langchain_community) (1.1.0)\n",
            "Requirement already satisfied: charset-normalizer<4,>=2 in /usr/local/lib/python3.11/dist-packages (from requests<3,>=2->langchain_community) (3.4.1)\n",
            "Requirement already satisfied: idna<4,>=2.5 in /usr/local/lib/python3.11/dist-packages (from requests<3,>=2->langchain_community) (3.10)\n",
            "Requirement already satisfied: urllib3<3,>=1.21.1 in /usr/local/lib/python3.11/dist-packages (from requests<3,>=2->langchain_community) (2.3.0)\n",
            "Requirement already satisfied: certifi>=2017.4.17 in /usr/local/lib/python3.11/dist-packages (from requests<3,>=2->langchain_community) (2025.1.31)\n",
            "Requirement already satisfied: greenlet>=1 in /usr/local/lib/python3.11/dist-packages (from SQLAlchemy<3,>=1.4->langchain_community) (3.1.1)\n",
            "Requirement already satisfied: anyio in /usr/local/lib/python3.11/dist-packages (from httpx<1,>=0.23.0->langsmith<0.4,>=0.1.125->langchain_community) (4.9.0)\n",
            "Requirement already satisfied: httpcore==1.* in /usr/local/lib/python3.11/dist-packages (from httpx<1,>=0.23.0->langsmith<0.4,>=0.1.125->langchain_community) (1.0.7)\n",
            "Requirement already satisfied: h11<0.15,>=0.13 in /usr/local/lib/python3.11/dist-packages (from httpcore==1.*->httpx<1,>=0.23.0->langsmith<0.4,>=0.1.125->langchain_community) (0.14.0)\n",
            "Requirement already satisfied: jsonpointer>=1.9 in /usr/local/lib/python3.11/dist-packages (from jsonpatch<2.0,>=1.33->langchain-core<1.0.0,>=0.3.51->langchain_community) (3.0.0)\n",
            "Requirement already satisfied: annotated-types>=0.6.0 in /usr/local/lib/python3.11/dist-packages (from pydantic<3.0.0,>=2.7.4->langchain<1.0.0,>=0.3.23->langchain_community) (0.7.0)\n",
            "Requirement already satisfied: pydantic-core==2.33.1 in /usr/local/lib/python3.11/dist-packages (from pydantic<3.0.0,>=2.7.4->langchain<1.0.0,>=0.3.23->langchain_community) (2.33.1)\n",
            "Requirement already satisfied: typing-inspection>=0.4.0 in /usr/local/lib/python3.11/dist-packages (from pydantic<3.0.0,>=2.7.4->langchain<1.0.0,>=0.3.23->langchain_community) (0.4.0)\n",
            "Requirement already satisfied: mypy-extensions>=0.3.0 in /usr/local/lib/python3.11/dist-packages (from typing-inspect<1,>=0.4.0->dataclasses-json<0.7,>=0.5.7->langchain_community) (1.0.0)\n",
            "Requirement already satisfied: sniffio>=1.1 in /usr/local/lib/python3.11/dist-packages (from anyio->httpx<1,>=0.23.0->langsmith<0.4,>=0.1.125->langchain_community) (1.3.1)\n",
            "Collecting langchain_openai\n",
            "  Downloading langchain_openai-0.3.12-py3-none-any.whl.metadata (2.3 kB)\n",
            "Requirement already satisfied: langchain-core<1.0.0,>=0.3.49 in /usr/local/lib/python3.11/dist-packages (from langchain_openai) (0.3.51)\n",
            "Requirement already satisfied: openai<2.0.0,>=1.68.2 in /usr/local/lib/python3.11/dist-packages (from langchain_openai) (1.72.0)\n",
            "Collecting tiktoken<1,>=0.7 (from langchain_openai)\n",
            "  Downloading tiktoken-0.9.0-cp311-cp311-manylinux_2_17_x86_64.manylinux2014_x86_64.whl.metadata (6.7 kB)\n",
            "Requirement already satisfied: langsmith<0.4,>=0.1.125 in /usr/local/lib/python3.11/dist-packages (from langchain-core<1.0.0,>=0.3.49->langchain_openai) (0.3.28)\n",
            "Requirement already satisfied: tenacity!=8.4.0,<10.0.0,>=8.1.0 in /usr/local/lib/python3.11/dist-packages (from langchain-core<1.0.0,>=0.3.49->langchain_openai) (9.1.2)\n",
            "Requirement already satisfied: jsonpatch<2.0,>=1.33 in /usr/local/lib/python3.11/dist-packages (from langchain-core<1.0.0,>=0.3.49->langchain_openai) (1.33)\n",
            "Requirement already satisfied: PyYAML>=5.3 in /usr/local/lib/python3.11/dist-packages (from langchain-core<1.0.0,>=0.3.49->langchain_openai) (6.0.2)\n",
            "Requirement already satisfied: packaging<25,>=23.2 in /usr/local/lib/python3.11/dist-packages (from langchain-core<1.0.0,>=0.3.49->langchain_openai) (24.2)\n",
            "Requirement already satisfied: typing-extensions>=4.7 in /usr/local/lib/python3.11/dist-packages (from langchain-core<1.0.0,>=0.3.49->langchain_openai) (4.13.1)\n",
            "Requirement already satisfied: pydantic<3.0.0,>=2.5.2 in /usr/local/lib/python3.11/dist-packages (from langchain-core<1.0.0,>=0.3.49->langchain_openai) (2.11.3)\n",
            "Requirement already satisfied: anyio<5,>=3.5.0 in /usr/local/lib/python3.11/dist-packages (from openai<2.0.0,>=1.68.2->langchain_openai) (4.9.0)\n",
            "Requirement already satisfied: distro<2,>=1.7.0 in /usr/local/lib/python3.11/dist-packages (from openai<2.0.0,>=1.68.2->langchain_openai) (1.9.0)\n",
            "Requirement already satisfied: httpx<1,>=0.23.0 in /usr/local/lib/python3.11/dist-packages (from openai<2.0.0,>=1.68.2->langchain_openai) (0.28.1)\n",
            "Requirement already satisfied: jiter<1,>=0.4.0 in /usr/local/lib/python3.11/dist-packages (from openai<2.0.0,>=1.68.2->langchain_openai) (0.9.0)\n",
            "Requirement already satisfied: sniffio in /usr/local/lib/python3.11/dist-packages (from openai<2.0.0,>=1.68.2->langchain_openai) (1.3.1)\n",
            "Requirement already satisfied: tqdm>4 in /usr/local/lib/python3.11/dist-packages (from openai<2.0.0,>=1.68.2->langchain_openai) (4.67.1)\n",
            "Requirement already satisfied: regex>=2022.1.18 in /usr/local/lib/python3.11/dist-packages (from tiktoken<1,>=0.7->langchain_openai) (2024.11.6)\n",
            "Requirement already satisfied: requests>=2.26.0 in /usr/local/lib/python3.11/dist-packages (from tiktoken<1,>=0.7->langchain_openai) (2.32.3)\n",
            "Requirement already satisfied: idna>=2.8 in /usr/local/lib/python3.11/dist-packages (from anyio<5,>=3.5.0->openai<2.0.0,>=1.68.2->langchain_openai) (3.10)\n",
            "Requirement already satisfied: certifi in /usr/local/lib/python3.11/dist-packages (from httpx<1,>=0.23.0->openai<2.0.0,>=1.68.2->langchain_openai) (2025.1.31)\n",
            "Requirement already satisfied: httpcore==1.* in /usr/local/lib/python3.11/dist-packages (from httpx<1,>=0.23.0->openai<2.0.0,>=1.68.2->langchain_openai) (1.0.7)\n",
            "Requirement already satisfied: h11<0.15,>=0.13 in /usr/local/lib/python3.11/dist-packages (from httpcore==1.*->httpx<1,>=0.23.0->openai<2.0.0,>=1.68.2->langchain_openai) (0.14.0)\n",
            "Requirement already satisfied: jsonpointer>=1.9 in /usr/local/lib/python3.11/dist-packages (from jsonpatch<2.0,>=1.33->langchain-core<1.0.0,>=0.3.49->langchain_openai) (3.0.0)\n",
            "Requirement already satisfied: orjson<4.0.0,>=3.9.14 in /usr/local/lib/python3.11/dist-packages (from langsmith<0.4,>=0.1.125->langchain-core<1.0.0,>=0.3.49->langchain_openai) (3.10.16)\n",
            "Requirement already satisfied: requests-toolbelt<2.0.0,>=1.0.0 in /usr/local/lib/python3.11/dist-packages (from langsmith<0.4,>=0.1.125->langchain-core<1.0.0,>=0.3.49->langchain_openai) (1.0.0)\n",
            "Requirement already satisfied: zstandard<0.24.0,>=0.23.0 in /usr/local/lib/python3.11/dist-packages (from langsmith<0.4,>=0.1.125->langchain-core<1.0.0,>=0.3.49->langchain_openai) (0.23.0)\n",
            "Requirement already satisfied: annotated-types>=0.6.0 in /usr/local/lib/python3.11/dist-packages (from pydantic<3.0.0,>=2.5.2->langchain-core<1.0.0,>=0.3.49->langchain_openai) (0.7.0)\n",
            "Requirement already satisfied: pydantic-core==2.33.1 in /usr/local/lib/python3.11/dist-packages (from pydantic<3.0.0,>=2.5.2->langchain-core<1.0.0,>=0.3.49->langchain_openai) (2.33.1)\n",
            "Requirement already satisfied: typing-inspection>=0.4.0 in /usr/local/lib/python3.11/dist-packages (from pydantic<3.0.0,>=2.5.2->langchain-core<1.0.0,>=0.3.49->langchain_openai) (0.4.0)\n",
            "Requirement already satisfied: charset-normalizer<4,>=2 in /usr/local/lib/python3.11/dist-packages (from requests>=2.26.0->tiktoken<1,>=0.7->langchain_openai) (3.4.1)\n",
            "Requirement already satisfied: urllib3<3,>=1.21.1 in /usr/local/lib/python3.11/dist-packages (from requests>=2.26.0->tiktoken<1,>=0.7->langchain_openai) (2.3.0)\n",
            "Downloading langchain_openai-0.3.12-py3-none-any.whl (61 kB)\n",
            "\u001b[2K   \u001b[90m━━━━━━━━━━━━━━━━━━━━━━━━━━━━━━━━━━━━━━━━\u001b[0m \u001b[32m61.3/61.3 kB\u001b[0m \u001b[31m4.3 MB/s\u001b[0m eta \u001b[36m0:00:00\u001b[0m\n",
            "\u001b[?25hDownloading tiktoken-0.9.0-cp311-cp311-manylinux_2_17_x86_64.manylinux2014_x86_64.whl (1.2 MB)\n",
            "\u001b[2K   \u001b[90m━━━━━━━━━━━━━━━━━━━━━━━━━━━━━━━━━━━━━━━━\u001b[0m \u001b[32m1.2/1.2 MB\u001b[0m \u001b[31m58.0 MB/s\u001b[0m eta \u001b[36m0:00:00\u001b[0m\n",
            "\u001b[?25hInstalling collected packages: tiktoken, langchain_openai\n",
            "Successfully installed langchain_openai-0.3.12 tiktoken-0.9.0\n"
          ]
        }
      ],
      "source": [
        "!pip install langchain_community\n",
        "!pip install langchain_openai"
      ]
    },
    {
      "cell_type": "code",
      "execution_count": 14,
      "id": "e92dff22",
      "metadata": {
        "id": "e92dff22",
        "tags": []
      },
      "outputs": [],
      "source": [
        "from langchain_openai import ChatOpenAI\n",
        "from langchain.prompts import ChatPromptTemplate\n",
        "from langchain.chains import LLMChain"
      ]
    },
    {
      "cell_type": "code",
      "execution_count": 30,
      "id": "943237a7",
      "metadata": {
        "id": "943237a7"
      },
      "outputs": [],
      "source": [
        "#Replace None by your own value and justify\n",
        "llm = ChatOpenAI(temperature=0.9, api_key=OPENAI_API_KEY)\n"
      ]
    },
    {
      "cell_type": "code",
      "execution_count": 37,
      "id": "cdcdb42d",
      "metadata": {
        "id": "cdcdb42d"
      },
      "outputs": [],
      "source": [
        "prompt = ChatPromptTemplate.from_template(\n",
        "    template=\"Describe the {product} and give me some reviwes about it.\"#Write a query that would take a variable to describe any product\n",
        ")"
      ]
    },
    {
      "cell_type": "code",
      "execution_count": 38,
      "id": "d7abc20b",
      "metadata": {
        "id": "d7abc20b"
      },
      "outputs": [],
      "source": [
        "\n",
        "chain = LLMChain(llm=llm, prompt=prompt)"
      ]
    },
    {
      "cell_type": "code",
      "execution_count": 39,
      "id": "ad44d1fb",
      "metadata": {
        "colab": {
          "base_uri": "https://localhost:8080/",
          "height": 109
        },
        "id": "ad44d1fb",
        "outputId": "2c644e43-466e-451b-b29d-9d49e6bfb822"
      },
      "outputs": [
        {
          "data": {
            "application/vnd.google.colaboratory.intrinsic+json": {
              "type": "string"
            },
            "text/plain": [
              "'Adidas shoes are popular for their stylish designs, comfortable fit, and high-quality construction. They come in a wide range of styles, including running shoes, casual sneakers, and athletic shoes. Many models feature the iconic three stripes logo and are available in a variety of colors and materials.\\n\\nReviews of Adidas shoes are generally positive, with many customers praising their durability, comfort, and performance. Many users appreciate the cushioning and support provided by Adidas shoes, making them a great choice for everyday wear or intense physical activity. Some reviewers also note that Adidas shoes are stylish and versatile, making them a great choice for both casual and athletic wear.\\n\\nOverall, Adidas shoes are a popular choice for those looking for a reliable and stylish footwear option.'"
            ]
          },
          "execution_count": 39,
          "metadata": {},
          "output_type": "execute_result"
        }
      ],
      "source": [
        "product = 'Adidas shoes'\t#Select a product type to be describe\n",
        "chain.run(product)"
      ]
    },
    {
      "cell_type": "markdown",
      "id": "69b03469",
      "metadata": {
        "id": "69b03469"
      },
      "source": [
        "## SimpleSequentialChain"
      ]
    },
    {
      "cell_type": "code",
      "execution_count": 35,
      "id": "febee243",
      "metadata": {
        "id": "febee243"
      },
      "outputs": [],
      "source": [
        "from langchain.chains import SimpleSequentialChain"
      ]
    },
    {
      "cell_type": "code",
      "execution_count": 43,
      "id": "2f31aa8a",
      "metadata": {
        "id": "2f31aa8a"
      },
      "outputs": [],
      "source": [
        "llm = ChatOpenAI(temperature=0.9)\n",
        "\n",
        "# prompt template 1\n",
        "first_prompt = ChatPromptTemplate.from_template(\n",
        "    template='Where is this {product} made'\n",
        "    #Repeat the initial query or create a new query that would feed into the second prompt\n",
        ")\n",
        "\n",
        "# Chain 1\n",
        "chain_one = LLMChain(llm=llm, prompt=first_prompt)"
      ]
    },
    {
      "cell_type": "code",
      "execution_count": 44,
      "id": "3f5d5b76",
      "metadata": {
        "id": "3f5d5b76"
      },
      "outputs": [],
      "source": [
        "\n",
        "# prompt template 2\n",
        "second_prompt = ChatPromptTemplate.from_template(\n",
        "    template = 'write some advice about {product}'\n",
        "    #Write the second prompt query that takes an input variable whose input will come from the previous prompt\"\n",
        ")\n",
        "# chain 2\n",
        "chain_two = LLMChain(llm=llm, prompt=second_prompt)"
      ]
    },
    {
      "cell_type": "code",
      "execution_count": 45,
      "id": "6c1eb2c4",
      "metadata": {
        "id": "6c1eb2c4"
      },
      "outputs": [],
      "source": [
        "overall_simple_chain = SimpleSequentialChain(chains=[chain_one, chain_two],\n",
        "                                             verbose=True\n",
        "                                            )"
      ]
    },
    {
      "cell_type": "code",
      "execution_count": 46,
      "id": "78458efe",
      "metadata": {
        "colab": {
          "base_uri": "https://localhost:8080/",
          "height": 475
        },
        "id": "78458efe",
        "outputId": "7f0b4c6d-b106-4046-dd32-41af31eb1aff"
      },
      "outputs": [
        {
          "name": "stdout",
          "output_type": "stream",
          "text": [
            "\n",
            "\n",
            "\u001b[1m> Entering new SimpleSequentialChain chain...\u001b[0m\n",
            "\u001b[36;1m\u001b[1;3mAdidas shoes are manufactured in various countries around the world, including Germany, China, Indonesia, Vietnam, and India. The specific location of production will depend on the particular style and model of the shoe.\u001b[0m\n",
            "\u001b[33;1m\u001b[1;3mWhen considering purchasing Adidas shoes, it's important to do your research on where the specific pair you are interested in is manufactured. While Adidas has a reputation for high-quality products, the manufacturing location can affect the overall quality and durability of the shoe.\n",
            "\n",
            "Some general tips to keep in mind:\n",
            "\n",
            "1. German-made Adidas shoes are typically known for their craftsmanship and high quality. If you are looking for a premium pair of shoes, you may want to consider seeking out styles that are made in Germany.\n",
            "\n",
            "2. Shoes manufactured in countries like China, Indonesia, Vietnam, and India may be more affordable but may not always meet the same standards as those made in Germany. It's important to inspect the shoe for quality and durability before making a purchase.\n",
            "\n",
            "3. Consider the ethical implications of where your shoes are made. Some consumers prefer to support brands that have transparent and ethical manufacturing processes. Research the labor practices of Adidas factories in different countries if this is important to you.\n",
            "\n",
            "Ultimately, the best advice is to try on the shoes, inspect them for quality, and choose a pair that feels comfortable and suits your needs, regardless of where they were manufactured. Remember that Adidas shoes are designed to provide comfort, style, and performance, no matter where they are made.\u001b[0m\n",
            "\n",
            "\u001b[1m> Finished chain.\u001b[0m\n"
          ]
        },
        {
          "data": {
            "application/vnd.google.colaboratory.intrinsic+json": {
              "type": "string"
            },
            "text/plain": [
              "\"When considering purchasing Adidas shoes, it's important to do your research on where the specific pair you are interested in is manufactured. While Adidas has a reputation for high-quality products, the manufacturing location can affect the overall quality and durability of the shoe.\\n\\nSome general tips to keep in mind:\\n\\n1. German-made Adidas shoes are typically known for their craftsmanship and high quality. If you are looking for a premium pair of shoes, you may want to consider seeking out styles that are made in Germany.\\n\\n2. Shoes manufactured in countries like China, Indonesia, Vietnam, and India may be more affordable but may not always meet the same standards as those made in Germany. It's important to inspect the shoe for quality and durability before making a purchase.\\n\\n3. Consider the ethical implications of where your shoes are made. Some consumers prefer to support brands that have transparent and ethical manufacturing processes. Research the labor practices of Adidas factories in different countries if this is important to you.\\n\\nUltimately, the best advice is to try on the shoes, inspect them for quality, and choose a pair that feels comfortable and suits your needs, regardless of where they were manufactured. Remember that Adidas shoes are designed to provide comfort, style, and performance, no matter where they are made.\""
            ]
          },
          "execution_count": 46,
          "metadata": {},
          "output_type": "execute_result"
        }
      ],
      "source": [
        "overall_simple_chain.run(product)"
      ]
    },
    {
      "cell_type": "markdown",
      "id": "0dd59bda-9d02-44e7-b3d6-2bec61b99d8f",
      "metadata": {
        "id": "0dd59bda-9d02-44e7-b3d6-2bec61b99d8f"
      },
      "source": [
        "**Repeat the above twice for different products**"
      ]
    },
    {
      "cell_type": "code",
      "execution_count": 47,
      "id": "u7Z5bWUmV_ZD",
      "metadata": {
        "colab": {
          "base_uri": "https://localhost:8080/",
          "height": 402
        },
        "id": "u7Z5bWUmV_ZD",
        "outputId": "a8873d36-30ba-406f-a6db-b28f55dd57cf"
      },
      "outputs": [
        {
          "name": "stdout",
          "output_type": "stream",
          "text": [
            "\n",
            "\n",
            "\u001b[1m> Entering new SimpleSequentialChain chain...\u001b[0m\n",
            "\u001b[36;1m\u001b[1;3mNike shoes are manufactured in various countries around the world, including China, Vietnam, Indonesia, and Thailand. The specific location of production can vary depending on the model and style of the shoe.\u001b[0m\n",
            "\u001b[33;1m\u001b[1;3mWhen purchasing Nike shoes, it's important to be aware that they are manufactured in different countries. This means that the quality and standards of production may vary depending on where the shoes are made. \n",
            "\n",
            "When buying Nike shoes, try to do some research on the specific model you are interested in to find out where it was manufactured. Some countries, like China, may have a reputation for producing lower quality goods, while others, like Vietnam, may have stricter regulations and higher standards of production. \n",
            "\n",
            "Keep in mind that just because a shoe is made in a certain country doesn't necessarily mean it is of poor quality. It's always best to try on the shoes and inspect them for any defects or issues before purchasing. Remember that comfort and fit are just as important as where the shoe was made. \n",
            "\n",
            "Lastly, be wary of counterfeit Nike products, especially if they are advertised as being made in a specific country. Always purchase from reputable retailers to ensure you are getting authentic Nike shoes.\u001b[0m\n",
            "\n",
            "\u001b[1m> Finished chain.\u001b[0m\n"
          ]
        },
        {
          "data": {
            "application/vnd.google.colaboratory.intrinsic+json": {
              "type": "string"
            },
            "text/plain": [
              "\"When purchasing Nike shoes, it's important to be aware that they are manufactured in different countries. This means that the quality and standards of production may vary depending on where the shoes are made. \\n\\nWhen buying Nike shoes, try to do some research on the specific model you are interested in to find out where it was manufactured. Some countries, like China, may have a reputation for producing lower quality goods, while others, like Vietnam, may have stricter regulations and higher standards of production. \\n\\nKeep in mind that just because a shoe is made in a certain country doesn't necessarily mean it is of poor quality. It's always best to try on the shoes and inspect them for any defects or issues before purchasing. Remember that comfort and fit are just as important as where the shoe was made. \\n\\nLastly, be wary of counterfeit Nike products, especially if they are advertised as being made in a specific country. Always purchase from reputable retailers to ensure you are getting authentic Nike shoes.\""
            ]
          },
          "execution_count": 47,
          "metadata": {},
          "output_type": "execute_result"
        }
      ],
      "source": [
        "product = 'Nike shoes'\t#Select a product type to be describe\n",
        "overall_simple_chain.run(product)\n"
      ]
    },
    {
      "cell_type": "code",
      "execution_count": 49,
      "id": "_LfAqRxZWkE0",
      "metadata": {
        "colab": {
          "base_uri": "https://localhost:8080/",
          "height": 366
        },
        "id": "_LfAqRxZWkE0",
        "outputId": "d43ae326-e818-44ad-ad50-8e832c79df07"
      },
      "outputs": [
        {
          "name": "stdout",
          "output_type": "stream",
          "text": [
            "\n",
            "\n",
            "\u001b[1m> Entering new SimpleSequentialChain chain...\u001b[0m\n",
            "\u001b[36;1m\u001b[1;3mRolex watches are primarily manufactured in Geneva, Switzerland.\u001b[0m\n",
            "\u001b[33;1m\u001b[1;3mIf you are in the market for a Rolex watch, it is important to ensure that you are purchasing an authentic timepiece. Due to their high popularity and value, there are many counterfeit Rolex watches on the market. One way to verify the authenticity of a Rolex watch is to purchase it from a reputable dealer or directly from the Rolex company.\n",
            "\n",
            "Additionally, Rolex watches are primarily manufactured in Geneva, Switzerland. This is where the brand's headquarters are located and where the watches are produced with strict quality control standards. When purchasing a Rolex watch, it is important to consider the craftsmanship and precision that goes into each piece, as well as the heritage and reputation of the brand.\n",
            "\n",
            "Finally, it is important to properly care for your Rolex watch to ensure its longevity and accuracy. Regular maintenance, such as cleaning and servicing, will help keep your Rolex watch in top condition for years to come. By following these tips, you can enjoy a genuine Rolex timepiece that will last a lifetime.\u001b[0m\n",
            "\n",
            "\u001b[1m> Finished chain.\u001b[0m\n"
          ]
        },
        {
          "data": {
            "application/vnd.google.colaboratory.intrinsic+json": {
              "type": "string"
            },
            "text/plain": [
              "\"If you are in the market for a Rolex watch, it is important to ensure that you are purchasing an authentic timepiece. Due to their high popularity and value, there are many counterfeit Rolex watches on the market. One way to verify the authenticity of a Rolex watch is to purchase it from a reputable dealer or directly from the Rolex company.\\n\\nAdditionally, Rolex watches are primarily manufactured in Geneva, Switzerland. This is where the brand's headquarters are located and where the watches are produced with strict quality control standards. When purchasing a Rolex watch, it is important to consider the craftsmanship and precision that goes into each piece, as well as the heritage and reputation of the brand.\\n\\nFinally, it is important to properly care for your Rolex watch to ensure its longevity and accuracy. Regular maintenance, such as cleaning and servicing, will help keep your Rolex watch in top condition for years to come. By following these tips, you can enjoy a genuine Rolex timepiece that will last a lifetime.\""
            ]
          },
          "execution_count": 49,
          "metadata": {},
          "output_type": "execute_result"
        }
      ],
      "source": [
        "product = \"Rolex watch\"\n",
        "overall_simple_chain.run(product)"
      ]
    },
    {
      "cell_type": "markdown",
      "id": "7b5ce18c",
      "metadata": {
        "id": "7b5ce18c"
      },
      "source": [
        "## SequentialChain"
      ]
    },
    {
      "cell_type": "code",
      "execution_count": 50,
      "id": "4c129ef6",
      "metadata": {
        "id": "4c129ef6"
      },
      "outputs": [],
      "source": [
        "from langchain.chains import SequentialChain"
      ]
    },
    {
      "cell_type": "code",
      "execution_count": 53,
      "id": "016187ac",
      "metadata": {
        "id": "016187ac"
      },
      "outputs": [],
      "source": [
        "llm = ChatOpenAI(temperature=0.9)\n",
        "\n",
        "\n",
        "first_prompt = ChatPromptTemplate.from_template(\n",
        "    'Translate the {review} into Arabic'  #This prompt should translate a review\n",
        ")\n",
        "\n",
        "chain_one = LLMChain(llm=llm, prompt=first_prompt,\n",
        "                     output_key='translate' #Give a name to your output\n",
        "                    )\n"
      ]
    },
    {
      "cell_type": "code",
      "execution_count": 54,
      "id": "0fb0730e",
      "metadata": {
        "id": "0fb0730e"
      },
      "outputs": [],
      "source": [
        "second_prompt = ChatPromptTemplate.from_template(\n",
        "    template = 'Summarize the {translate}into three sentinces'\n",
        "    #Write a promplt to summarize a review\n",
        ")\n",
        "\n",
        "chain_two = LLMChain(llm=llm, prompt=second_prompt,\n",
        "                     output_key='Summary' #give a name to this output\n",
        "                    )\n"
      ]
    },
    {
      "cell_type": "code",
      "execution_count": 55,
      "id": "6accf92d",
      "metadata": {
        "id": "6accf92d"
      },
      "outputs": [],
      "source": [
        "# prompt template 3: translate to english or other language\n",
        "third_prompt = ChatPromptTemplate.from_template(\n",
        "    template = 'translate {Summary} to english'\n",
        ")\n",
        "# chain 3: input= Review and output= language\n",
        "chain_three = LLMChain(llm=llm, prompt=third_prompt,\n",
        "                       output_key='translate_en'\n",
        "                      )\n"
      ]
    },
    {
      "cell_type": "code",
      "execution_count": 58,
      "id": "c7a46121",
      "metadata": {
        "id": "c7a46121"
      },
      "outputs": [],
      "source": [
        "\n",
        "# prompt template 4: follow up message that take as inputs the two previous prompts' variables\n",
        "fourth_prompt = ChatPromptTemplate.from_template(\n",
        "       template = 'Compare the {translate_en} and {Summary} finding common themes'\n",
        ")\n",
        "chain_four = LLMChain(llm=llm, prompt=fourth_prompt,\n",
        "                      output_key='compare'\n",
        "                     )\n"
      ]
    },
    {
      "cell_type": "code",
      "execution_count": 61,
      "id": "89603117",
      "metadata": {
        "id": "89603117"
      },
      "outputs": [],
      "source": [
        "# overall_chain: input= Review\n",
        "# and output= English_Review,summary, followup_message\n",
        "overall_chain = SequentialChain(\n",
        "    chains=[chain_one, chain_two, chain_three, chain_four],\n",
        "    input_variables=['review'],\n",
        "    output_variables=['translate', 'Summary', 'translate_en','compare'],\n",
        "    verbose=True\n",
        ")"
      ]
    },
    {
      "cell_type": "code",
      "execution_count": 62,
      "id": "51b04f45",
      "metadata": {
        "colab": {
          "base_uri": "https://localhost:8080/"
        },
        "id": "51b04f45",
        "outputId": "ddadc276-1275-4c77-87c4-cae923efff0b"
      },
      "outputs": [
        {
          "name": "stderr",
          "output_type": "stream",
          "text": [
            "<ipython-input-62-b19509cc8fc9>:2: LangChainDeprecationWarning: The method `Chain.__call__` was deprecated in langchain 0.1.0 and will be removed in 1.0. Use :meth:`~invoke` instead.\n",
            "  overall_chain(review)\n"
          ]
        },
        {
          "name": "stdout",
          "output_type": "stream",
          "text": [
            "\n",
            "\n",
            "\u001b[1m> Entering new SequentialChain chain...\u001b[0m\n",
            "\n",
            "\u001b[1m> Finished chain.\u001b[0m\n"
          ]
        },
        {
          "data": {
            "text/plain": [
              "{'review': \"Je trouve le goût médiocre. La mousse ne tient pas, c'est bizarre. J'achète les mêmes dans le commerce et le goût est bien meilleur...\\nVieux lot ou contrefaçon !?\",\n",
              " 'translate': 'أجد الطعم سيئًا. الرغوة لا تدوم، هذا غريب. أشتري نفس المنتجات من المتاجر والطعم أفضل بكثير... هل يعود الأمر إلى دفعة قديمة أم التقليدية؟',\n",
              " 'Summary': \"The taste is bad, the foam doesn't last, this is strange. I buy the same products from stores and the taste is much better. Could it be due to an old batch or a traditional recipe?\",\n",
              " 'translate_en': \"The taste is bad, the foam doesn't last, this is strange. I buy the same products from stores and the taste is much better. Could it be due to an old batch or a traditional recipe?\",\n",
              " 'compare': 'Both statements express dissatisfaction with the taste and quality of a product compared to previous purchases from stores. They both question whether the issue is related to the product being from an old batch or being made with a traditional recipe. Both statements also point out specific issues with the product, such as the taste being bad and the foam not lasting. Overall, the common theme is a comparison between expected quality from store-bought products and the perceived lower quality of the current product.'}"
            ]
          },
          "execution_count": 62,
          "metadata": {},
          "output_type": "execute_result"
        }
      ],
      "source": [
        "review = df.Review[5]\n",
        "overall_chain(review)"
      ]
    },
    {
      "cell_type": "markdown",
      "id": "3187cf07-458a-4226-bec7-3dec7ee47af2",
      "metadata": {
        "id": "3187cf07-458a-4226-bec7-3dec7ee47af2"
      },
      "source": [
        "**Repeat the above twice for different products or reviews**"
      ]
    },
    {
      "cell_type": "code",
      "execution_count": 64,
      "id": "pc3TxuyyaEQc",
      "metadata": {
        "colab": {
          "base_uri": "https://localhost:8080/"
        },
        "id": "pc3TxuyyaEQc",
        "outputId": "d4690847-5203-4a83-f613-e3c7a6fee4c5"
      },
      "outputs": [
        {
          "name": "stdout",
          "output_type": "stream",
          "text": [
            "\n",
            "\n",
            "\u001b[1m> Entering new SequentialChain chain...\u001b[0m\n",
            "\n",
            "\u001b[1m> Finished chain.\u001b[0m\n"
          ]
        },
        {
          "data": {
            "text/plain": [
              "{'review': \"This mattress had a small hole in the top of it (took forever to find where it was), and the patches that they provide did not work, maybe because it's the top of the mattress where it's kind of like fabric and a patch won't stick. Maybe I got unlucky with a defective mattress, but where's quality assurance for this company? That flat out should not happen. Emphasis on flat. Cause that's what the mattress was. Seriously horrible experience, ruined my friend's stay with me. Then they make you ship it back instead of just providing a refund, which is also super annoying to pack up an air mattress and take it to the UPS store. This company is the worst, and this mattress is the worst.\",\n",
              " 'translate': 'كان هذا الفراش به فتحة صغيرة في الجزء العلوي منه (استغرق الأمر وقتا طويلا للعثور على مكانها)، والشرائح التي قدموها لم تعمل، ربما لأنها في الجزء العلوي من الفراش حيث يكون مثل القماش ولن تلتصق الشرائح. ربما كنت محظوظًا بفراش معيب، ولكن أين ضمان الجودة لهذه الشركة؟ يجب أن لا يحدث ذلك تمامًا. بالتأكيد الفراش كان سيئًا، وهذه كانت تجربة فظيعة حقًا، أفسدت إقامة صديقي معي. ثم يطلبون منك إعادته بالشحن بدلاً من تقديم استرداد أموال، وهو أيضًا مزعج للغاية أن تحزم فراش هوائي وتأخذه إلى متجر UPS. هذه الشركة هي الأسوأ، وهذا الفراش هو الأسوأ.',\n",
              " 'Summary': 'تجربة سيئة مع فراش يحتوي على فتحة في الجزء العلوي، والشرائح التي قدموها لم تعمل بشكل جيد. تجربة سيئة للغاية حتى أنها أفسدت إقامة صديق. الشركة غير مضمونة الجودة وطلبت إعادة الفراش بدلاً من تقديم استرداد أموال. الشركة والفراش يعتبران الأسوأ.',\n",
              " 'translate_en': \"A bad experience with a mattress that had a hole in the top part, and the provided sheets did not work properly. A very bad experience that even ruined a friend's stay. The company does not guarantee quality and asked for the mattress to be returned instead of providing a refund. The company and the mattress are considered the worst.\",\n",
              " 'compare': \"Both experiences involve a mattress with a hole in the top part and sheets that did not work properly. Both experiences resulted in a negative impact on the customer's stay, with one even ruining a friend's stay. In both cases, the company did not provide a satisfactory resolution, with one asking for the mattress to be returned instead of offering a refund. The company and the mattress are both considered to be of poor quality in both experiences.\"}"
            ]
          },
          "execution_count": 64,
          "metadata": {},
          "output_type": "execute_result"
        }
      ],
      "source": [
        "review = df.Review[2]\n",
        "overall_chain(review)"
      ]
    },
    {
      "cell_type": "code",
      "execution_count": 65,
      "id": "SGPalJbQaYce",
      "metadata": {
        "colab": {
          "base_uri": "https://localhost:8080/"
        },
        "id": "SGPalJbQaYce",
        "outputId": "e7b7bb0e-45cd-436a-a44b-632ee458b587"
      },
      "outputs": [
        {
          "name": "stdout",
          "output_type": "stream",
          "text": [
            "\n",
            "\n",
            "\u001b[1m> Entering new SequentialChain chain...\u001b[0m\n",
            "\n",
            "\u001b[1m> Finished chain.\u001b[0m\n"
          ]
        },
        {
          "data": {
            "text/plain": [
              "{'review': 'I ordered a king size set. My only criticism would be that I wish seller would offer the king size set with 4 pillowcases. I separately ordered a two pack of pillowcases so I could have a total of four. When I saw the two packages, it looked like the color did not exactly match. Customer service was excellent about sending me two more pillowcases so I would have four that matched. Excellent! For the cost of these sheets, I am satisfied with the characteristics and coolness of the sheets.',\n",
              " 'translate': 'طلبت مجموعة بحجم كبير. النقد الوحيد الذي أود أن أوجهه هو أنني أتمنى أن يقدم البائع مجموعة بحجم كبير مع 4 وسائد. طلبت بشكل منفصل زوجين من وسادات الوسادة حتى أتمكن من الحصول على مجموعة من أربع وسادات. عندما رأيت الحزمتين، بدت الألوان لا تتطابق تمامًا. كان خدمة العملاء ممتازة في إرسال لي وسادتين إضافيتين حتى أتمكن من الحصول على أربعة تتناسب. ممتاز! بالنسبة لتكلفة هذه الأغطية، أنا راضٍ عن الخصائص وبرودة الأغطية.',\n",
              " 'Summary': 'تم طلب مجموعة بحجم كبير من الوسائد وتمنى العميل أن يتم تقديم الوسادات مع 4 وسائد بدلاً من ذلك. عندما وصلت الحزمتين، لاحظ اختلاف في الألوان ولكن تم تأمين وسادتين إضافيتين من خدمة العملاء. العميل راضٍ عن الجودة والسعر ووصف الخدمة بأنها ممتازة.',\n",
              " 'translate_en': 'A large set of cushions was ordered and the customer wished to receive the cushions with 4 pillows instead. When the two packages arrived, there was a difference in colors but two extra cushions were secured by customer service. The customer was satisfied with the quality and price and described the service as excellent.',\n",
              " 'compare': \"1. Both passages mention that a large set of cushions was ordered by the customer.\\n2. Both passages discuss the customer's request for 4 pillows to be included with the cushions.\\n3. Both passages mention a discrepancy in colors between the two packages that were received.\\n4. Both passages highlight the fact that customer service provided two extra cushions to make up for the error.\\n5. Both passages mention that the customer was satisfied with the quality and price of the product.\\n6. Both passages describe the service provided as excellent.\"}"
            ]
          },
          "execution_count": 65,
          "metadata": {},
          "output_type": "execute_result"
        }
      ],
      "source": [
        "review = df.Review[0]\n",
        "overall_chain(review)"
      ]
    },
    {
      "cell_type": "markdown",
      "id": "3041ea4c",
      "metadata": {
        "id": "3041ea4c"
      },
      "source": [
        "## Router Chain"
      ]
    },
    {
      "cell_type": "code",
      "execution_count": 66,
      "id": "ade83f4f",
      "metadata": {
        "id": "ade83f4f"
      },
      "outputs": [],
      "source": [
        "physics_template = \"\"\"You are a very smart physics professor. \\\n",
        "You are great at answering questions about physics in a concise\\\n",
        "and easy to understand manner. \\\n",
        "When you don't know the answer to a question you admit\\\n",
        "that you don't know.\n",
        "\n",
        "Here is a question:\n",
        "{input}\"\"\"\n",
        "\n",
        "\n",
        "math_template = \"\"\"You are a very good mathematician. \\\n",
        "You are great at answering math questions. \\\n",
        "You are so good because you are able to break down \\\n",
        "hard problems into their component parts,\n",
        "answer the component parts, and then put them together\\\n",
        "to answer the broader question.\n",
        "\n",
        "Here is a question:\n",
        "{input}\"\"\"\n",
        "\n",
        "history_template = \"\"\"You are a very good historian. \\\n",
        "You have an excellent knowledge of and understanding of people,\\\n",
        "events and contexts from a range of historical periods. \\\n",
        "You have the ability to think, reflect, debate, discuss and \\\n",
        "evaluate the past. You have a respect for historical evidence\\\n",
        "and the ability to make use of it to support your explanations \\\n",
        "and judgements.\n",
        "\n",
        "Here is a question:\n",
        "{input}\"\"\"\n",
        "\n",
        "\n",
        "computerscience_template = \"\"\" You are a successful computer scientist.\\\n",
        "You have a passion for creativity, collaboration,\\\n",
        "forward-thinking, confidence, strong problem-solving capabilities,\\\n",
        "understanding of theories and algorithms, and excellent communication \\\n",
        "skills. You are great at answering coding questions. \\\n",
        "You are so good because you know how to solve a problem by \\\n",
        "describing the solution in imperative steps \\\n",
        "that a machine can easily interpret and you know how to \\\n",
        "choose a solution that has a good balance between \\\n",
        "time complexity and space complexity.\n",
        "\n",
        "Here is a question:\n",
        "{input}\"\"\"\n",
        "\n",
        "biology_template = \"\"\"You are an excellent biologist. \\\n",
        "You have a deep understanding of living organisms, \\\n",
        "from the molecular and cellular level to entire ecosystems. \\\n",
        "You are skilled at observing patterns in nature, analyzing biological data, \\\n",
        "and explaining complex processes like evolution, genetics, physiology, and ecology. \\\n",
        "You can clearly communicate how life functions and adapts, \\\n",
        "and you make connections between different biological concepts \\\n",
        "to answer challenging questions.\n",
        "\n",
        "Here is a question:\n",
        "{input}\"\"\""
      ]
    },
    {
      "cell_type": "code",
      "execution_count": 67,
      "id": "5f590e9f",
      "metadata": {
        "id": "5f590e9f"
      },
      "outputs": [],
      "source": [
        "prompt_infos = [\n",
        "    {\n",
        "        \"name\": \"physics\",\n",
        "        \"description\": \"Good for answering questions about physics\",\n",
        "        \"prompt_template\": physics_template\n",
        "    },\n",
        "    {\n",
        "        \"name\": \"math\",\n",
        "        \"description\": \"Good for answering math questions\",\n",
        "        \"prompt_template\": math_template\n",
        "    },\n",
        "    {\n",
        "        \"name\": \"History\",\n",
        "        \"description\": \"Good for answering history questions\",\n",
        "        \"prompt_template\": history_template\n",
        "    },\n",
        "    {\n",
        "        \"name\": \"computer science\",\n",
        "        \"description\": \"Good for answering computer science questions\",\n",
        "        \"prompt_template\": computerscience_template\n",
        "    },\n",
        "    {\n",
        "        \"name\": \"biology\",\n",
        "        \"description\": \"Good for answering biology questions\",\n",
        "        \"prompt_template\": biology_template\n",
        "    }\n",
        "]"
      ]
    },
    {
      "cell_type": "code",
      "execution_count": 68,
      "id": "31b06fc8",
      "metadata": {
        "id": "31b06fc8"
      },
      "outputs": [],
      "source": [
        "from langchain.chains.router import MultiPromptChain\n",
        "from langchain.chains.router.llm_router import LLMRouterChain,RouterOutputParser\n",
        "from langchain.prompts import PromptTemplate"
      ]
    },
    {
      "cell_type": "code",
      "execution_count": 69,
      "id": "f3f50bcc",
      "metadata": {
        "id": "f3f50bcc"
      },
      "outputs": [],
      "source": [
        "llm = ChatOpenAI(temperature=0)"
      ]
    },
    {
      "cell_type": "code",
      "execution_count": 70,
      "id": "8eefec24",
      "metadata": {
        "id": "8eefec24"
      },
      "outputs": [],
      "source": [
        "destination_chains = {}\n",
        "for p_info in prompt_infos:\n",
        "    name = p_info[\"name\"]\n",
        "    prompt_template = p_info[\"prompt_template\"]\n",
        "    prompt = ChatPromptTemplate.from_template(template=prompt_template)\n",
        "    chain = LLMChain(llm=llm, prompt=prompt)\n",
        "    destination_chains[name] = chain\n",
        "\n",
        "destinations = [f\"{p['name']}: {p['description']}\" for p in prompt_infos]\n",
        "destinations_str = \"\\n\".join(destinations)"
      ]
    },
    {
      "cell_type": "code",
      "execution_count": 71,
      "id": "9f98018a",
      "metadata": {
        "id": "9f98018a"
      },
      "outputs": [],
      "source": [
        "default_prompt = ChatPromptTemplate.from_template(\"{input}\")\n",
        "default_chain = LLMChain(llm=llm, prompt=default_prompt)"
      ]
    },
    {
      "cell_type": "code",
      "execution_count": 72,
      "id": "11b2e2ba",
      "metadata": {
        "id": "11b2e2ba"
      },
      "outputs": [],
      "source": [
        "MULTI_PROMPT_ROUTER_TEMPLATE = \"\"\"Given a raw text input to a \\\n",
        "language model select the model prompt best suited for the input. \\\n",
        "You will be given the names of the available prompts and a \\\n",
        "description of what the prompt is best suited for. \\\n",
        "You may also revise the original input if you think that revising\\\n",
        "it will ultimately lead to a better response from the language model.\n",
        "\n",
        "<< FORMATTING >>\n",
        "Return a markdown code snippet with a JSON object formatted to look like:\n",
        "```json\n",
        "{{{{\n",
        "    \"destination\": string \\ name of the prompt to use or \"DEFAULT\"\n",
        "    \"next_inputs\": string \\ a potentially modified version of the original input\n",
        "}}}}\n",
        "```\n",
        "\n",
        "REMEMBER: \"destination\" MUST be one of the candidate prompt \\\n",
        "names specified below OR it can be \"DEFAULT\" if the input is not\\\n",
        "well suited for any of the candidate prompts.\n",
        "REMEMBER: \"next_inputs\" can just be the original input \\\n",
        "if you don't think any modifications are needed.\n",
        "\n",
        "<< CANDIDATE PROMPTS >>\n",
        "{destinations}\n",
        "\n",
        "<< INPUT >>\n",
        "{{input}}\n",
        "\n",
        "<< OUTPUT (remember to include the ```json)>>\"\"\""
      ]
    },
    {
      "cell_type": "code",
      "execution_count": 73,
      "id": "1387109d",
      "metadata": {
        "id": "1387109d"
      },
      "outputs": [],
      "source": [
        "router_template = MULTI_PROMPT_ROUTER_TEMPLATE.format(\n",
        "    destinations=destinations_str\n",
        ")\n",
        "router_prompt = PromptTemplate(\n",
        "    template=router_template,\n",
        "    input_variables=[\"input\"],\n",
        "    output_parser=RouterOutputParser(),\n",
        ")\n",
        "\n",
        "router_chain = LLMRouterChain.from_llm(llm, router_prompt)"
      ]
    },
    {
      "cell_type": "code",
      "execution_count": 74,
      "id": "2fb7d560",
      "metadata": {
        "colab": {
          "base_uri": "https://localhost:8080/"
        },
        "id": "2fb7d560",
        "outputId": "0927b8a1-d303-4649-ea34-8f60db857cbb"
      },
      "outputs": [
        {
          "name": "stderr",
          "output_type": "stream",
          "text": [
            "<ipython-input-74-ae9cc652db54>:1: LangChainDeprecationWarning: Please see migration guide here for recommended implementation: https://python.langchain.com/docs/versions/migrating_chains/multi_prompt_chain/\n",
            "  chain = MultiPromptChain(router_chain=router_chain,\n"
          ]
        }
      ],
      "source": [
        "chain = MultiPromptChain(router_chain=router_chain,\n",
        "                         destination_chains=destination_chains,\n",
        "                         default_chain=default_chain, verbose=True\n",
        "                        )"
      ]
    },
    {
      "cell_type": "code",
      "execution_count": 75,
      "id": "d86b2131",
      "metadata": {
        "colab": {
          "base_uri": "https://localhost:8080/",
          "height": 182
        },
        "id": "d86b2131",
        "outputId": "35ef3478-6a17-4b7d-aad9-d1741af68759"
      },
      "outputs": [
        {
          "name": "stdout",
          "output_type": "stream",
          "text": [
            "\n",
            "\n",
            "\u001b[1m> Entering new MultiPromptChain chain...\u001b[0m\n",
            "physics: {'input': 'What is black body radiation?'}\n",
            "\u001b[1m> Finished chain.\u001b[0m\n"
          ]
        },
        {
          "data": {
            "application/vnd.google.colaboratory.intrinsic+json": {
              "type": "string"
            },
            "text/plain": [
              "\"Black body radiation is the electromagnetic radiation emitted by a perfect absorber of radiation, known as a black body. A black body absorbs all radiation that falls on it and emits radiation across the entire electromagnetic spectrum. The spectrum of black body radiation is continuous and depends only on the temperature of the black body. This phenomenon is described by Planck's law, which states that the intensity of radiation emitted by a black body at a given wavelength is proportional to the temperature of the body and the wavelength raised to the fifth power.\""
            ]
          },
          "execution_count": 75,
          "metadata": {},
          "output_type": "execute_result"
        }
      ],
      "source": [
        "chain.run(\"What is black body radiation?\")"
      ]
    },
    {
      "cell_type": "code",
      "execution_count": 76,
      "id": "3b717379",
      "metadata": {
        "colab": {
          "base_uri": "https://localhost:8080/",
          "height": 127
        },
        "id": "3b717379",
        "outputId": "b9cdd555-8d31-40f8-d6e4-7389846119d2"
      },
      "outputs": [
        {
          "name": "stdout",
          "output_type": "stream",
          "text": [
            "\n",
            "\n",
            "\u001b[1m> Entering new MultiPromptChain chain...\u001b[0m\n",
            "math: {'input': 'what is 2 + 2'}\n",
            "\u001b[1m> Finished chain.\u001b[0m\n"
          ]
        },
        {
          "data": {
            "application/vnd.google.colaboratory.intrinsic+json": {
              "type": "string"
            },
            "text/plain": [
              "'The answer to 2 + 2 is 4.'"
            ]
          },
          "execution_count": 76,
          "metadata": {},
          "output_type": "execute_result"
        }
      ],
      "source": [
        "chain.run(\"what is 2 + 2\")"
      ]
    },
    {
      "cell_type": "code",
      "execution_count": 77,
      "id": "29e5be01",
      "metadata": {
        "colab": {
          "base_uri": "https://localhost:8080/",
          "height": 237
        },
        "id": "29e5be01",
        "outputId": "26ec4a89-7250-41e1-ea2e-8d4a8d8e7f3f"
      },
      "outputs": [
        {
          "name": "stdout",
          "output_type": "stream",
          "text": [
            "\n",
            "\n",
            "\u001b[1m> Entering new MultiPromptChain chain...\u001b[0m\n",
            "biology: {'input': 'Why does every cell in our body contain DNA?'}\n",
            "\u001b[1m> Finished chain.\u001b[0m\n"
          ]
        },
        {
          "data": {
            "application/vnd.google.colaboratory.intrinsic+json": {
              "type": "string"
            },
            "text/plain": [
              "\"Every cell in our body contains DNA because DNA is the genetic material that carries the instructions for the development, functioning, and reproduction of all living organisms. DNA contains the information needed to build and maintain an organism, including the proteins that make up our cells and tissues. \\n\\nHaving DNA in every cell ensures that each cell has the necessary genetic information to carry out its specific functions and to replicate itself accurately during cell division. This ensures that the genetic information is passed on to the next generation of cells, maintaining the integrity and continuity of the organism's genetic code.\\n\\nAdditionally, DNA serves as a storage system for genetic information that can be accessed and utilized by cells as needed. This allows for the regulation of gene expression, the production of specific proteins, and the adaptation of cells to changing environmental conditions.\\n\\nIn summary, every cell in our body contains DNA because it is essential for the proper functioning, development, and reproduction of all living organisms.\""
            ]
          },
          "execution_count": 77,
          "metadata": {},
          "output_type": "execute_result"
        }
      ],
      "source": [
        "chain.run(\"Why does every cell in our body contain DNA?\")"
      ]
    },
    {
      "cell_type": "markdown",
      "id": "09e0c60b-7ae0-453e-9467-142d8dafee6e",
      "metadata": {
        "id": "09e0c60b-7ae0-453e-9467-142d8dafee6e"
      },
      "source": [
        "**Repeat the above at least once for different inputs and chains executions - Be creative!**"
      ]
    },
    {
      "cell_type": "code",
      "execution_count": 78,
      "id": "Om0UqLAFa8e7",
      "metadata": {
        "colab": {
          "base_uri": "https://localhost:8080/",
          "height": 182
        },
        "id": "Om0UqLAFa8e7",
        "outputId": "a5332954-7a99-40d0-f0c7-dfb4f757cc16"
      },
      "outputs": [
        {
          "name": "stdout",
          "output_type": "stream",
          "text": [
            "\n",
            "\n",
            "\u001b[1m> Entering new MultiPromptChain chain...\u001b[0m\n",
            "None: {'input': 'What is the matrix and give me example'}\n",
            "\u001b[1m> Finished chain.\u001b[0m\n"
          ]
        },
        {
          "data": {
            "application/vnd.google.colaboratory.intrinsic+json": {
              "type": "string"
            },
            "text/plain": [
              "'The matrix is a concept in mathematics and computer science that refers to a rectangular array of numbers, symbols, or expressions arranged in rows and columns. Matrices are commonly used to represent and manipulate data in various fields such as physics, engineering, and computer graphics.\\n\\nFor example, a 2x3 matrix can be represented as:\\n\\n\\\\[ \\\\begin{bmatrix} 1 & 2 & 3 \\\\\\\\ 4 & 5 & 6 \\\\end{bmatrix} \\\\]\\n\\nThis matrix has 2 rows and 3 columns, with the numbers 1, 2, 3 in the first row and 4, 5, 6 in the second row. Matrices can be added, subtracted, multiplied, and transformed using various mathematical operations.'"
            ]
          },
          "execution_count": 78,
          "metadata": {},
          "output_type": "execute_result"
        }
      ],
      "source": [
        "chain.run(\"What is the matrix and give me example\")"
      ]
    },
    {
      "cell_type": "code",
      "execution_count": null,
      "id": "PDKHXFtNbFmk",
      "metadata": {
        "id": "PDKHXFtNbFmk"
      },
      "outputs": [],
      "source": []
    }
  ],
  "metadata": {
    "colab": {
      "provenance": []
    },
    "kernelspec": {
      "display_name": "Python 3 (ipykernel)",
      "language": "python",
      "name": "python3"
    },
    "language_info": {
      "codemirror_mode": {
        "name": "ipython",
        "version": 3
      },
      "file_extension": ".py",
      "mimetype": "text/x-python",
      "name": "python",
      "nbconvert_exporter": "python",
      "pygments_lexer": "ipython3",
      "version": "3.11.8"
    }
  },
  "nbformat": 4,
  "nbformat_minor": 5
}
